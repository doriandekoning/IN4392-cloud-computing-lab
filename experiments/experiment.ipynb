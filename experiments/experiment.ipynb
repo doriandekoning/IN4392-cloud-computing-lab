{
 "cells": [
  {
   "cell_type": "code",
   "execution_count": 66,
   "metadata": {},
   "outputs": [],
   "source": [
    "import boto3\n",
    "import networkx as nx\n",
    "import numpy as np\n",
    "import uuid\n",
    "\n",
    "import os\n",
    "import configparser"
   ]
  },
  {
   "cell_type": "code",
   "execution_count": 67,
   "metadata": {},
   "outputs": [],
   "source": [
    "config = configparser.ConfigParser()\n",
    "\n",
    "# Write example config to disk.\n",
    "config['AWS'] = {\n",
    "    'ACCESS_KEY': '',\n",
    "    'SECRET_KEY': '',\n",
    "    'SESSION_TOKEN': ''\n",
    "}\n",
    "\n",
    "config['Master'] = {\n",
    "    'API_KEY': ''\n",
    "}\n",
    "\n",
    "with open('config.txt.sample', 'w') as configfile:\n",
    "    config.write(configfile)\n",
    "    \n",
    "config = configparser.ConfigParser()\n",
    "config.read('config.txt')\n",
    "\n",
    "session = boto3.Session(\n",
    "    aws_access_key_id=config['AWS']['access_key'], \n",
    "    aws_secret_access_key=config['AWS']['secret_key'], \n",
    ")\n"
   ]
  },
  {
   "cell_type": "code",
   "execution_count": 93,
   "metadata": {},
   "outputs": [],
   "source": [
    "def getInstanceIdsByType():\n",
    "    response = session.client(\"ec2\").describe_instances()\n",
    "    reservations = response['Reservations']\n",
    "    \n",
    "    instancesByType = dict()\n",
    "    for reservation in reservations:\n",
    "        for instance in reservation['Instances']:\n",
    "            for tag in instance['Tags']:\n",
    "                if tag['Key'] == 'instance_type':\n",
    "                    instancetype = tag['Value']\n",
    "                    if not instancetype in instancesByType:\n",
    "                        instancesByType[instancetype] = [instance['InstanceId']]\n",
    "                    else:\n",
    "                        instancesByType[instancetype].append(instance['InstanceId'])\n",
    "    \n",
    "    return instancesByType    \n",
    "\n",
    "def terminateInstancesWithIds(ids):\n",
    "    session.client(\"ec2\").terminate_instances(InstanceIds=ids)\n",
    "\n",
    "def createMaster(session):\n",
    "    ec2_client = session.client('ec2')\n",
    "\n",
    "def generate_graph_file(directory, n, p, prepend_vertex_weights=False):\n",
    "    if not os.path.exists(directory):\n",
    "        os.makedirs(directory)\n",
    "    \n",
    "    file = os.path.join(directory, '%s-%d-%s.graph' % (uuid.uuid4(), n, p))\n",
    "\n",
    "    # Generate ER graph with n nodes and edge probability p\n",
    "    G = nx.erdos_renyi_graph(int(n), p)\n",
    "    node_weights = []\n",
    "\n",
    "    # Generate random edge weights.\n",
    "    for (u, v) in G.edges():\n",
    "        G.edges[u,v]['weight'] = round(np.random.random(), 2)\n",
    "\n",
    "    nx.write_weighted_edgelist(G, file, delimiter=\",\")\n",
    "\n",
    "    if prepend_vertex_weights:\n",
    "        # Prepend weights\n",
    "        for u in G.nodes():\n",
    "            node_weights.append(str(1.0 / n)) # Uniform for pagerank.\n",
    "\n",
    "        with open(file, 'r') as original: data = original.read()\n",
    "        with open(file, 'w') as modified: modified.write(\",\".join(node_weights) + \"\\n\" + data)\n",
    "            \n",
    "    return file\n",
    "\n",
    "def run_experiment():\n",
    "    # Connecto to EC2\n",
    "    ec2_client = session.client('ec2')\n",
    "    \n",
    "    # Spin up a master.\n",
    "    response = ec2_client.run_instances(LaunchTemplate={'LaunchTemplateName': \"Master\"}, MinCount=1, MaxCount=1)\n",
    "\n",
    "    # Terminate all masters.\n",
    "    instances = getInstanceIdsByType()\n",
    "    terminateInstancesWithIds(instances['master'])"
   ]
  },
  {
   "cell_type": "code",
   "execution_count": 97,
   "metadata": {},
   "outputs": [],
   "source": [
    "#run_experiment()\n"
   ]
  },
  {
   "cell_type": "code",
   "execution_count": 46,
   "metadata": {},
   "outputs": [],
   "source": [
    "# directory = 'graphs'\n",
    "# node = [1e1, 1e2, 1e3]\n",
    "# p_edge = [0.1, 0.2, 0.3, 0.4, 0.5, 0.6, 0.7, 0.8, 0.9, 1.0]\n",
    "\n",
    "# # For each node_vertex combination\n",
    "# for n in node:\n",
    "#     for p in p_edge:\n",
    "#         generate_graph_file(directory, n, p, prepend_vertex_weights=True)"
   ]
  },
  {
   "cell_type": "code",
   "execution_count": null,
   "metadata": {},
   "outputs": [],
   "source": []
  }
 ],
 "metadata": {
  "kernelspec": {
   "display_name": "Python 3",
   "language": "python",
   "name": "python3"
  },
  "language_info": {
   "codemirror_mode": {
    "name": "ipython",
    "version": 3
   },
   "file_extension": ".py",
   "mimetype": "text/x-python",
   "name": "python",
   "nbconvert_exporter": "python",
   "pygments_lexer": "ipython3",
   "version": "3.6.5"
  }
 },
 "nbformat": 4,
 "nbformat_minor": 2
}
